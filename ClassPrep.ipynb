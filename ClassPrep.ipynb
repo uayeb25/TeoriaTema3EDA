{
 "cells": [
  {
   "cell_type": "code",
   "execution_count": 2,
   "id": "6d2b3159-8ca1-4f90-b70c-3c61556ab89d",
   "metadata": {},
   "outputs": [],
   "source": [
    "import numpy as np\n",
    "import pandas as pd\n",
    "import random\n",
    "from scipy.stats import truncnorm"
   ]
  },
  {
   "cell_type": "code",
   "execution_count": 22,
   "id": "b5296f8e-8d2b-41b4-860e-609187d9bc39",
   "metadata": {},
   "outputs": [
    {
     "name": "stdout",
     "output_type": "stream",
     "text": [
      "-0.33605733804866855\n"
     ]
    }
   ],
   "source": [
    "# Generar un número aleatorio con distribución normal de media 0 y desviación estándar 1\n",
    "numero_normal = random.gauss(0, 1)\n",
    "print(numero_normal)"
   ]
  },
  {
   "cell_type": "code",
   "execution_count": 64,
   "id": "957a9894-41cb-48c4-9889-82a52d4a74fc",
   "metadata": {},
   "outputs": [],
   "source": [
    "collection = pd.DataFrame(\n",
    "    {\n",
    "        \"n\": [ random.expovariate(7) for n in range(100) ]\n",
    "    }\n",
    ")"
   ]
  },
  {
   "cell_type": "code",
   "execution_count": 70,
   "id": "91131856-2219-4af9-82b4-ff22fe89741c",
   "metadata": {},
   "outputs": [
    {
     "data": {
      "text/plain": [
       "<Axes: >"
      ]
     },
     "execution_count": 70,
     "metadata": {},
     "output_type": "execute_result"
    },
    {
     "data": {
      "image/png": "[encoded data removed]",
      "text/plain": [
       "<Figure size 640x480 with 1 Axes>"
      ]
     },
     "metadata": {},
     "output_type": "display_data"
    }
   ],
   "source": [
    "collection.boxplot()"
   ]
  },
  {
   "cell_type": "code",
   "execution_count": 50,
   "id": "8f7f5ae2-7f13-4d98-ad27-e199ad3a9102",
   "metadata": {},
   "outputs": [
    {
     "name": "stdout",
     "output_type": "stream",
     "text": [
      "0.33407779823349854\n"
     ]
    }
   ],
   "source": [
    "import random\n",
    "\n",
    "# Generar un número aleatorio con distribución exponencial con lambda = 1\n",
    "numero_exponencial = random.expovariate(4)\n",
    "print(numero_exponencial)"
   ]
  },
  {
   "cell_type": "code",
   "execution_count": 4,
   "id": "58241501-cf9d-423c-bc10-5696e495d933",
   "metadata": {},
   "outputs": [],
   "source": [
    "data = pd.read_csv( '01_Data_Processed.csv' )"
   ]
  },
  {
   "cell_type": "code",
   "execution_count": 10,
   "id": "68f7d56a-5091-4825-9dba-3b64828f905a",
   "metadata": {},
   "outputs": [
    {
     "data": {
      "text/plain": [
       "epoch (ms)          object\n",
       "Accelerometer_x    float64\n",
       "Accelerometer_y    float64\n",
       "Accelerometer_z    float64\n",
       "Gyroscope_x        float64\n",
       "Gyroscope_y        float64\n",
       "Gyroscope_z        float64\n",
       "Participants        object\n",
       "Label               object\n",
       "Category            object\n",
       "Set                  int64\n",
       "dtype: object"
      ]
     },
     "execution_count": 10,
     "metadata": {},
     "output_type": "execute_result"
    }
   ],
   "source": [
    "data.dtypes"
   ]
  },
  {
   "cell_type": "code",
   "execution_count": 12,
   "id": "d4c380ef-94f6-4c5f-867c-4432d35dae49",
   "metadata": {},
   "outputs": [
    {
     "data": {
      "text/html": [
       "<div>\n",
       "<style scoped>\n",
       "    .dataframe tbody tr th:only-of-type {\n",
       "        vertical-align: middle;\n",
       "    }\n",
       "\n",
       "    .dataframe tbody tr th {\n",
       "        vertical-align: top;\n",
       "    }\n",
       "\n",
       "    .dataframe thead th {\n",
       "        text-align: right;\n",
       "    }\n",
       "</style>\n",
       "<table border=\"1\" class=\"dataframe\">\n",
       "  <thead>\n",
       "    <tr style=\"text-align: right;\">\n",
       "      <th></th>\n",
       "      <th>epoch (ms)</th>\n",
       "      <th>Accelerometer_x</th>\n",
       "      <th>Accelerometer_y</th>\n",
       "      <th>Accelerometer_z</th>\n",
       "      <th>Gyroscope_x</th>\n",
       "      <th>Gyroscope_y</th>\n",
       "      <th>Gyroscope_z</th>\n",
       "      <th>Participants</th>\n",
       "      <th>Label</th>\n",
       "      <th>Category</th>\n",
       "      <th>Set</th>\n",
       "    </tr>\n",
       "  </thead>\n",
       "  <tbody>\n",
       "    <tr>\n",
       "      <th>0</th>\n",
       "      <td>2019-01-11 15:08:05.200</td>\n",
       "      <td>0.013500</td>\n",
       "      <td>0.977000</td>\n",
       "      <td>-0.071000</td>\n",
       "      <td>-1.8904</td>\n",
       "      <td>2.4392</td>\n",
       "      <td>0.9388</td>\n",
       "      <td>B</td>\n",
       "      <td>bench</td>\n",
       "      <td>heavy</td>\n",
       "      <td>30</td>\n",
       "    </tr>\n",
       "    <tr>\n",
       "      <th>1</th>\n",
       "      <td>2019-01-11 15:08:05.400</td>\n",
       "      <td>-0.001500</td>\n",
       "      <td>0.970500</td>\n",
       "      <td>-0.079500</td>\n",
       "      <td>-1.6826</td>\n",
       "      <td>-0.8904</td>\n",
       "      <td>2.1708</td>\n",
       "      <td>B</td>\n",
       "      <td>bench</td>\n",
       "      <td>heavy</td>\n",
       "      <td>30</td>\n",
       "    </tr>\n",
       "    <tr>\n",
       "      <th>2</th>\n",
       "      <td>2019-01-11 15:08:05.600</td>\n",
       "      <td>0.001333</td>\n",
       "      <td>0.971667</td>\n",
       "      <td>-0.064333</td>\n",
       "      <td>2.5608</td>\n",
       "      <td>-0.2560</td>\n",
       "      <td>-1.4146</td>\n",
       "      <td>B</td>\n",
       "      <td>bench</td>\n",
       "      <td>heavy</td>\n",
       "      <td>30</td>\n",
       "    </tr>\n",
       "    <tr>\n",
       "      <th>3</th>\n",
       "      <td>2019-01-11 15:08:05.800</td>\n",
       "      <td>-0.024000</td>\n",
       "      <td>0.957000</td>\n",
       "      <td>-0.073500</td>\n",
       "      <td>8.0610</td>\n",
       "      <td>-4.5244</td>\n",
       "      <td>-2.0730</td>\n",
       "      <td>B</td>\n",
       "      <td>bench</td>\n",
       "      <td>heavy</td>\n",
       "      <td>30</td>\n",
       "    </tr>\n",
       "    <tr>\n",
       "      <th>4</th>\n",
       "      <td>2019-01-11 15:08:06.000</td>\n",
       "      <td>-0.028000</td>\n",
       "      <td>0.957667</td>\n",
       "      <td>-0.115000</td>\n",
       "      <td>2.4390</td>\n",
       "      <td>-1.5486</td>\n",
       "      <td>-3.6098</td>\n",
       "      <td>B</td>\n",
       "      <td>bench</td>\n",
       "      <td>heavy</td>\n",
       "      <td>30</td>\n",
       "    </tr>\n",
       "  </tbody>\n",
       "</table>\n",
       "</div>"
      ],
      "text/plain": [
       "                epoch (ms)  Accelerometer_x  Accelerometer_y  Accelerometer_z  \\\n",
       "0  2019-01-11 15:08:05.200         0.013500         0.977000        -0.071000   \n",
       "1  2019-01-11 15:08:05.400        -0.001500         0.970500        -0.079500   \n",
       "2  2019-01-11 15:08:05.600         0.001333         0.971667        -0.064333   \n",
       "3  2019-01-11 15:08:05.800        -0.024000         0.957000        -0.073500   \n",
       "4  2019-01-11 15:08:06.000        -0.028000         0.957667        -0.115000   \n",
       "\n",
       "   Gyroscope_x  Gyroscope_y  Gyroscope_z Participants  Label Category  Set  \n",
       "0      -1.8904       2.4392       0.9388            B  bench    heavy   30  \n",
       "1      -1.6826      -0.8904       2.1708            B  bench    heavy   30  \n",
       "2       2.5608      -0.2560      -1.4146            B  bench    heavy   30  \n",
       "3       8.0610      -4.5244      -2.0730            B  bench    heavy   30  \n",
       "4       2.4390      -1.5486      -3.6098            B  bench    heavy   30  "
      ]
     },
     "execution_count": 12,
     "metadata": {},
     "output_type": "execute_result"
    }
   ],
   "source": [
    "data.head()"
   ]
  },
  {
   "cell_type": "code",
   "execution_count": 16,
   "id": "5c99ff52-64d5-4f26-b8fa-7bb566f11fcc",
   "metadata": {},
   "outputs": [],
   "source": [
    "data['epoch (ms)'] = pd.to_datetime(data['epoch (ms)'])"
   ]
  },
  {
   "cell_type": "code",
   "execution_count": 18,
   "id": "9dabbe0b-0ab6-4864-9e17-93c9566a7f46",
   "metadata": {},
   "outputs": [
    {
     "data": {
      "text/plain": [
       "epoch (ms)         datetime64[ns]\n",
       "Accelerometer_x           float64\n",
       "Accelerometer_y           float64\n",
       "Accelerometer_z           float64\n",
       "Gyroscope_x               float64\n",
       "Gyroscope_y               float64\n",
       "Gyroscope_z               float64\n",
       "Participants               object\n",
       "Label                      object\n",
       "Category                   object\n",
       "Set                         int64\n",
       "dtype: object"
      ]
     },
     "execution_count": 18,
     "metadata": {},
     "output_type": "execute_result"
    }
   ],
   "source": [
    "data.dtypes"
   ]
  },
  {
   "cell_type": "code",
   "execution_count": 20,
   "id": "a164a8d8-61c1-47ff-9c08-3dd271d7d76a",
   "metadata": {},
   "outputs": [
    {
     "name": "stdout",
     "output_type": "stream",
     "text": [
      "                  epoch (ms)  Accelerometer_x  Accelerometer_y  \\\n",
      "0    2019-01-11 15:08:05.200         0.013500         0.977000   \n",
      "1    2019-01-11 15:08:05.400        -0.001500         0.970500   \n",
      "2    2019-01-11 15:08:05.600         0.001333         0.971667   \n",
      "3    2019-01-11 15:08:05.800        -0.024000         0.957000   \n",
      "4    2019-01-11 15:08:06.000        -0.028000         0.957667   \n",
      "...                      ...              ...              ...   \n",
      "9004 2019-01-20 17:33:27.000        -0.048000        -1.041500   \n",
      "9005 2019-01-20 17:33:27.200        -0.037000        -1.030333   \n",
      "9006 2019-01-20 17:33:27.400        -0.060000        -1.031000   \n",
      "9007 2019-01-20 17:33:27.600        -0.038667        -1.025667   \n",
      "9008 2019-01-20 17:33:27.800        -0.044000        -1.034000   \n",
      "\n",
      "      Accelerometer_z  Gyroscope_x  Gyroscope_y  Gyroscope_z Participants  \\\n",
      "0           -0.071000      -1.8904       2.4392       0.9388            B   \n",
      "1           -0.079500      -1.6826      -0.8904       2.1708            B   \n",
      "2           -0.064333       2.5608      -0.2560      -1.4146            B   \n",
      "3           -0.073500       8.0610      -4.5244      -2.0730            B   \n",
      "4           -0.115000       2.4390      -1.5486      -3.6098            B   \n",
      "...               ...          ...          ...          ...          ...   \n",
      "9004        -0.076500       1.4146      -5.6218       0.2926            E   \n",
      "9005        -0.053333      -2.7684      -0.5854       2.2440            E   \n",
      "9006        -0.082000       2.8416      -5.1342      -0.1220            E   \n",
      "9007        -0.044667      -0.2318       0.2562       1.1220            E   \n",
      "9008        -0.059000       1.0980      -4.0240       0.9760            E   \n",
      "\n",
      "      Label Category  Set  day  day_of_week  month  year  hour  minute  \\\n",
      "0     bench    heavy   30   11            4      1  2019    15       8   \n",
      "1     bench    heavy   30   11            4      1  2019    15       8   \n",
      "2     bench    heavy   30   11            4      1  2019    15       8   \n",
      "3     bench    heavy   30   11            4      1  2019    15       8   \n",
      "4     bench    heavy   30   11            4      1  2019    15       8   \n",
      "...     ...      ...  ...  ...          ...    ...   ...   ...     ...   \n",
      "9004    row   medium   40   20            6      1  2019    17      33   \n",
      "9005    row   medium   40   20            6      1  2019    17      33   \n",
      "9006    row   medium   40   20            6      1  2019    17      33   \n",
      "9007    row   medium   40   20            6      1  2019    17      33   \n",
      "9008    row   medium   40   20            6      1  2019    17      33   \n",
      "\n",
      "      second  microsecond  \n",
      "0          5       200000  \n",
      "1          5       400000  \n",
      "2          5       600000  \n",
      "3          5       800000  \n",
      "4          6            0  \n",
      "...      ...          ...  \n",
      "9004      27            0  \n",
      "9005      27       200000  \n",
      "9006      27       400000  \n",
      "9007      27       600000  \n",
      "9008      27       800000  \n",
      "\n",
      "[9009 rows x 19 columns]\n"
     ]
    }
   ],
   "source": [
    "# Crear nuevas columnas con los componentes de la fecha\n",
    "data['day'] = data['epoch (ms)'].dt.day\n",
    "data['day_of_week'] = data['epoch (ms)'].dt.dayofweek  # Lunes = 0, Domingo = 6\n",
    "data['month'] = data['epoch (ms)'].dt.month\n",
    "data['year'] = data['epoch (ms)'].dt.year\n",
    "data['hour'] = data['epoch (ms)'].dt.hour\n",
    "data['minute'] = data['epoch (ms)'].dt.minute\n",
    "data['second'] = data['epoch (ms)'].dt.second\n",
    "data['microsecond'] = data['epoch (ms)'].dt.microsecond  # Para milisegundos en caso de que necesites precisión adicional\n",
    "\n",
    "# Mostrar el DataFrame con las nuevas columnas\n",
    "print(data)"
   ]
  },
  {
   "cell_type": "code",
   "execution_count": 32,
   "id": "fc00fe2c-9693-4ff7-a781-1a4f342b2298",
   "metadata": {},
   "outputs": [
    {
     "data": {
      "text/plain": [
       "<Axes: title={'center': 'Accelerometer_x'}, xlabel='pdow'>"
      ]
     },
     "execution_count": 32,
     "metadata": {},
     "output_type": "execute_result"
    },
    {
     "data": {
      "image/png": "[encoded data removed]",
      "text/plain": [
       "<Figure size 640x480 with 1 Axes>"
      ]
     },
     "metadata": {},
     "output_type": "display_data"
    }
   ],
   "source": [
    "data.boxplot( column = \"Accelerometer_x\" , by=\"pdow\" )"
   ]
  },
  {
   "cell_type": "code",
   "execution_count": 30,
   "id": "0bdeab1b-5053-4dd5-bede-1e157ffff37f",
   "metadata": {},
   "outputs": [],
   "source": [
    "\n",
    "data[\"pdow\"] = data['Participants'] + ' ' + data['day_of_week'].astype(str)"
   ]
  },
  {
   "cell_type": "code",
   "execution_count": null,
   "id": "cffd3214-b47a-4bb1-9940-3752bbd1aede",
   "metadata": {},
   "outputs": [],
   "source": [
    "data"
   ]
  }
 ],
 "metadata": {
  "kernelspec": {
   "display_name": "Python 3 (ipykernel)",
   "language": "python",
   "name": "python3"
  },
  "language_info": {
   "codemirror_mode": {
    "name": "ipython",
    "version": 3
   },
   "file_extension": ".py",
   "mimetype": "text/x-python",
   "name": "python",
   "nbconvert_exporter": "python",
   "pygments_lexer": "ipython3",
   "version": "3.11.5"
  }
 },
 "nbformat": 4,
 "nbformat_minor": 5
}
