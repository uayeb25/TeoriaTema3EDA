{
 "cells": [
  {
   "cell_type": "code",
   "execution_count": 252,
   "id": "391c934d-3cf2-47df-90ee-b39402d1cf86",
   "metadata": {},
   "outputs": [],
   "source": [
    "import random\n",
    "import numpy as np\n",
    "import pandas as pd\n",
    "\n",
    "from scipy.stats import truncnorm\n"
   ]
  },
  {
   "cell_type": "markdown",
   "id": "6c33fafd-2647-43c2-a410-8064c525e1a5",
   "metadata": {},
   "source": [
    "## Distribución categoría "
   ]
  },
  {
   "cell_type": "code",
   "execution_count": 5,
   "id": "ec16317b-1e57-41f3-b5d4-c8d8dff1411d",
   "metadata": {},
   "outputs": [],
   "source": [
    "categories = [ 'A' , 'B' , 'C' ]\n",
    "probs = [ .3 , .4 , .3 ] "
   ]
  },
  {
   "cell_type": "code",
   "execution_count": 9,
   "id": "451e2ee5-9da8-4ebc-aa24-17bd5bb285b5",
   "metadata": {},
   "outputs": [],
   "source": [
    "ejemplo = pd.DataFrame({\n",
    "    \"category\": np.random.choice( categories , size=1000, p=probs )\n",
    "})"
   ]
  },
  {
   "cell_type": "code",
   "execution_count": 13,
   "id": "63823788-24eb-4ae6-a571-e8585ad63199",
   "metadata": {},
   "outputs": [],
   "source": [
    "ejemplo[\"n\"] = 1"
   ]
  },
  {
   "cell_type": "code",
   "execution_count": 30,
   "id": "59337314-b465-4b3e-b555-a64f96a810ef",
   "metadata": {},
   "outputs": [],
   "source": [
    "summ = ejemplo.groupby( [\"category\"] , as_index=False ).agg({\n",
    "    \"n\": [\"sum\"]\n",
    "})\n",
    "summ.columns = [\"category\",\"sum\"]"
   ]
  },
  {
   "cell_type": "code",
   "execution_count": 32,
   "id": "8176a0de-b1e4-400b-b966-5088158b4f4a",
   "metadata": {},
   "outputs": [],
   "source": [
    "summ[\"prob\"] = summ[\"sum\"] / ejemplo.shape[0]"
   ]
  },
  {
   "cell_type": "code",
   "execution_count": 34,
   "id": "85202f1b-d96d-4883-b8ff-15b39a60a31d",
   "metadata": {},
   "outputs": [
    {
     "data": {
      "text/html": [
       "<div>\n",
       "<style scoped>\n",
       "    .dataframe tbody tr th:only-of-type {\n",
       "        vertical-align: middle;\n",
       "    }\n",
       "\n",
       "    .dataframe tbody tr th {\n",
       "        vertical-align: top;\n",
       "    }\n",
       "\n",
       "    .dataframe thead th {\n",
       "        text-align: right;\n",
       "    }\n",
       "</style>\n",
       "<table border=\"1\" class=\"dataframe\">\n",
       "  <thead>\n",
       "    <tr style=\"text-align: right;\">\n",
       "      <th></th>\n",
       "      <th>category</th>\n",
       "      <th>sum</th>\n",
       "      <th>prob</th>\n",
       "    </tr>\n",
       "  </thead>\n",
       "  <tbody>\n",
       "    <tr>\n",
       "      <th>0</th>\n",
       "      <td>A</td>\n",
       "      <td>298</td>\n",
       "      <td>0.298</td>\n",
       "    </tr>\n",
       "    <tr>\n",
       "      <th>1</th>\n",
       "      <td>B</td>\n",
       "      <td>399</td>\n",
       "      <td>0.399</td>\n",
       "    </tr>\n",
       "    <tr>\n",
       "      <th>2</th>\n",
       "      <td>C</td>\n",
       "      <td>303</td>\n",
       "      <td>0.303</td>\n",
       "    </tr>\n",
       "  </tbody>\n",
       "</table>\n",
       "</div>"
      ],
      "text/plain": [
       "  category  sum   prob\n",
       "0        A  298  0.298\n",
       "1        B  399  0.399\n",
       "2        C  303  0.303"
      ]
     },
     "execution_count": 34,
     "metadata": {},
     "output_type": "execute_result"
    }
   ],
   "source": [
    "summ"
   ]
  },
  {
   "cell_type": "markdown",
   "id": "0d26291a-e593-4fff-905e-4e8719c94ac5",
   "metadata": {},
   "source": [
    "## Distribución Numerica"
   ]
  },
  {
   "cell_type": "code",
   "execution_count": 74,
   "id": "049bd33f-060c-43eb-bd0a-f858ba7c2e26",
   "metadata": {},
   "outputs": [],
   "source": [
    "n = [ random.gauss( 10 , 0.4 ) for _ in range(1000) ]"
   ]
  },
  {
   "cell_type": "code",
   "execution_count": 76,
   "id": "c4bed853-5e35-4a72-a546-54bc917d7e8b",
   "metadata": {},
   "outputs": [],
   "source": [
    "numdf = pd.DataFrame({\n",
    "    \"n\": n \n",
    "})"
   ]
  },
  {
   "cell_type": "code",
   "execution_count": 78,
   "id": "bb3f31b1-e345-41bb-b520-620e7e51fb8c",
   "metadata": {},
   "outputs": [
    {
     "data": {
      "text/html": [
       "<div>\n",
       "<style scoped>\n",
       "    .dataframe tbody tr th:only-of-type {\n",
       "        vertical-align: middle;\n",
       "    }\n",
       "\n",
       "    .dataframe tbody tr th {\n",
       "        vertical-align: top;\n",
       "    }\n",
       "\n",
       "    .dataframe thead th {\n",
       "        text-align: right;\n",
       "    }\n",
       "</style>\n",
       "<table border=\"1\" class=\"dataframe\">\n",
       "  <thead>\n",
       "    <tr style=\"text-align: right;\">\n",
       "      <th></th>\n",
       "      <th>n</th>\n",
       "    </tr>\n",
       "  </thead>\n",
       "  <tbody>\n",
       "    <tr>\n",
       "      <th>count</th>\n",
       "      <td>1000.000000</td>\n",
       "    </tr>\n",
       "    <tr>\n",
       "      <th>mean</th>\n",
       "      <td>9.980941</td>\n",
       "    </tr>\n",
       "    <tr>\n",
       "      <th>std</th>\n",
       "      <td>0.407013</td>\n",
       "    </tr>\n",
       "    <tr>\n",
       "      <th>min</th>\n",
       "      <td>8.795651</td>\n",
       "    </tr>\n",
       "    <tr>\n",
       "      <th>25%</th>\n",
       "      <td>9.701293</td>\n",
       "    </tr>\n",
       "    <tr>\n",
       "      <th>50%</th>\n",
       "      <td>9.992359</td>\n",
       "    </tr>\n",
       "    <tr>\n",
       "      <th>75%</th>\n",
       "      <td>10.247311</td>\n",
       "    </tr>\n",
       "    <tr>\n",
       "      <th>max</th>\n",
       "      <td>11.072471</td>\n",
       "    </tr>\n",
       "  </tbody>\n",
       "</table>\n",
       "</div>"
      ],
      "text/plain": [
       "                 n\n",
       "count  1000.000000\n",
       "mean      9.980941\n",
       "std       0.407013\n",
       "min       8.795651\n",
       "25%       9.701293\n",
       "50%       9.992359\n",
       "75%      10.247311\n",
       "max      11.072471"
      ]
     },
     "execution_count": 78,
     "metadata": {},
     "output_type": "execute_result"
    }
   ],
   "source": [
    "numdf.describe()"
   ]
  },
  {
   "cell_type": "code",
   "execution_count": 80,
   "id": "418c40b6-6bfc-43e4-81cd-d149c8e41443",
   "metadata": {},
   "outputs": [
    {
     "data": {
      "text/plain": [
       "array([[<Axes: title={'center': 'n'}>]], dtype=object)"
      ]
     },
     "execution_count": 80,
     "metadata": {},
     "output_type": "execute_result"
    },
    {
     "data": {
      "image/png": "[encoded data removed]",
      "text/plain": [
       "<Figure size 640x480 with 1 Axes>"
      ]
     },
     "metadata": {},
     "output_type": "display_data"
    }
   ],
   "source": [
    "numdf.hist()"
   ]
  },
  {
   "cell_type": "markdown",
   "id": "157e1bcc-eab0-45cc-b6de-6895a22e7f68",
   "metadata": {},
   "source": [
    "## Distribución exponencial"
   ]
  },
  {
   "cell_type": "code",
   "execution_count": 215,
   "id": "d5e3c0f0-7f89-499e-9133-7e0fc79f7e9c",
   "metadata": {},
   "outputs": [],
   "source": [
    "n = [ random.expovariate(9) for _ in range(1000) ]"
   ]
  },
  {
   "cell_type": "code",
   "execution_count": 217,
   "id": "6c6b0395-c730-4f15-b547-d752e3401c15",
   "metadata": {},
   "outputs": [],
   "source": [
    "n.append( -10 )\n",
    "n.append( -11 )\n",
    "n.append( -12 )\n",
    "n.append( -13 )\n"
   ]
  },
  {
   "cell_type": "code",
   "execution_count": 219,
   "id": "414c6ca2-d6cf-4a38-887d-01ee87cfede3",
   "metadata": {
    "scrolled": true
   },
   "outputs": [
    {
     "data": {
      "text/plain": [
       "[0.3522245315028349,\n",
       " 0.3695853152224663,\n",
       " 0.2300557183785872,\n",
       " 0.06643310714154113,\n",
       " 0.13781148668355364,\n",
       " -10,\n",
       " -11,\n",
       " -12,\n",
       " -13]"
      ]
     },
     "execution_count": 219,
     "metadata": {},
     "output_type": "execute_result"
    }
   ],
   "source": [
    "n[ 995: ]"
   ]
  },
  {
   "cell_type": "code",
   "execution_count": 221,
   "id": "a23ff22e-0c5f-4e21-b7e6-d404baba875f",
   "metadata": {},
   "outputs": [],
   "source": [
    "numdf = pd.DataFrame({ \"n\": n })"
   ]
  },
  {
   "cell_type": "code",
   "execution_count": 223,
   "id": "075108af-241c-452e-8815-e1feccd25e2d",
   "metadata": {},
   "outputs": [
    {
     "data": {
      "text/html": [
       "<div>\n",
       "<style scoped>\n",
       "    .dataframe tbody tr th:only-of-type {\n",
       "        vertical-align: middle;\n",
       "    }\n",
       "\n",
       "    .dataframe tbody tr th {\n",
       "        vertical-align: top;\n",
       "    }\n",
       "\n",
       "    .dataframe thead th {\n",
       "        text-align: right;\n",
       "    }\n",
       "</style>\n",
       "<table border=\"1\" class=\"dataframe\">\n",
       "  <thead>\n",
       "    <tr style=\"text-align: right;\">\n",
       "      <th></th>\n",
       "      <th>n</th>\n",
       "    </tr>\n",
       "  </thead>\n",
       "  <tbody>\n",
       "    <tr>\n",
       "      <th>count</th>\n",
       "      <td>1004.000000</td>\n",
       "    </tr>\n",
       "    <tr>\n",
       "      <th>mean</th>\n",
       "      <td>0.066990</td>\n",
       "    </tr>\n",
       "    <tr>\n",
       "      <th>std</th>\n",
       "      <td>0.743924</td>\n",
       "    </tr>\n",
       "    <tr>\n",
       "      <th>min</th>\n",
       "      <td>-13.000000</td>\n",
       "    </tr>\n",
       "    <tr>\n",
       "      <th>25%</th>\n",
       "      <td>0.031101</td>\n",
       "    </tr>\n",
       "    <tr>\n",
       "      <th>50%</th>\n",
       "      <td>0.078594</td>\n",
       "    </tr>\n",
       "    <tr>\n",
       "      <th>75%</th>\n",
       "      <td>0.158019</td>\n",
       "    </tr>\n",
       "    <tr>\n",
       "      <th>max</th>\n",
       "      <td>0.749010</td>\n",
       "    </tr>\n",
       "  </tbody>\n",
       "</table>\n",
       "</div>"
      ],
      "text/plain": [
       "                 n\n",
       "count  1004.000000\n",
       "mean      0.066990\n",
       "std       0.743924\n",
       "min     -13.000000\n",
       "25%       0.031101\n",
       "50%       0.078594\n",
       "75%       0.158019\n",
       "max       0.749010"
      ]
     },
     "execution_count": 223,
     "metadata": {},
     "output_type": "execute_result"
    }
   ],
   "source": [
    "numdf.describe()"
   ]
  },
  {
   "cell_type": "code",
   "execution_count": 225,
   "id": "57d6292c-a514-4b20-a412-469eedb07929",
   "metadata": {},
   "outputs": [
    {
     "data": {
      "text/plain": [
       "array([[<Axes: title={'center': 'n'}>]], dtype=object)"
      ]
     },
     "execution_count": 225,
     "metadata": {},
     "output_type": "execute_result"
    },
    {
     "data": {
      "image/png": "[encoded data removed]",
      "text/plain": [
       "<Figure size 640x480 with 1 Axes>"
      ]
     },
     "metadata": {},
     "output_type": "display_data"
    }
   ],
   "source": [
    "numdf.hist()"
   ]
  },
  {
   "cell_type": "code",
   "execution_count": 227,
   "id": "c7b96b9d-15e9-48d9-8289-4cf4e0759a3b",
   "metadata": {},
   "outputs": [
    {
     "data": {
      "text/plain": [
       "<Axes: >"
      ]
     },
     "execution_count": 227,
     "metadata": {},
     "output_type": "execute_result"
    },
    {
     "data": {
      "image/png": "[encoded data removed]",
      "text/plain": [
       "<Figure size 640x480 with 1 Axes>"
      ]
     },
     "metadata": {},
     "output_type": "display_data"
    }
   ],
   "source": [
    "numdf.boxplot()"
   ]
  },
  {
   "cell_type": "code",
   "execution_count": 229,
   "id": "0050e2af-8b9c-4406-9d11-1b9976716ee2",
   "metadata": {},
   "outputs": [],
   "source": [
    "coll = pd.Series( numdf[\"n\"].tolist() )"
   ]
  },
  {
   "cell_type": "code",
   "execution_count": 231,
   "id": "0c86d1f2-60e0-4967-8c12-9123d8ed5b21",
   "metadata": {},
   "outputs": [],
   "source": [
    "Q1 = coll.quantile(.25)\n",
    "Q3 = coll.quantile(.75)\n",
    "\n",
    "IQR = Q3 - Q1"
   ]
  },
  {
   "cell_type": "code",
   "execution_count": 233,
   "id": "3f8fe173-1a10-4f19-ab16-0d2f55cd7934",
   "metadata": {},
   "outputs": [],
   "source": [
    "lower_bound = Q1 - 1.5 * IQR\n",
    "upper_bound = Q3 + 1.5 * IQR"
   ]
  },
  {
   "cell_type": "code",
   "execution_count": 235,
   "id": "4a44abe2-3f12-483d-9513-b173caff86fe",
   "metadata": {},
   "outputs": [
    {
     "data": {
      "text/plain": [
       "-0.15927697332757082"
      ]
     },
     "execution_count": 235,
     "metadata": {},
     "output_type": "execute_result"
    }
   ],
   "source": [
    "lower_bound"
   ]
  },
  {
   "cell_type": "code",
   "execution_count": 237,
   "id": "137eabb6-56a6-4854-aad3-e9945c0cc04d",
   "metadata": {},
   "outputs": [
    {
     "data": {
      "text/plain": [
       "0.34839689811307484"
      ]
     },
     "execution_count": 237,
     "metadata": {},
     "output_type": "execute_result"
    }
   ],
   "source": [
    "upper_bound"
   ]
  },
  {
   "cell_type": "code",
   "execution_count": 239,
   "id": "8057bdcb-732d-410d-8d7e-18cbcc0e21db",
   "metadata": {},
   "outputs": [],
   "source": [
    "numdf[\"atypical\"] = 0"
   ]
  },
  {
   "cell_type": "code",
   "execution_count": 241,
   "id": "c075d161-e5ba-41a6-8dda-8cf9c9872106",
   "metadata": {},
   "outputs": [],
   "source": [
    "numdf.loc[ \n",
    "    (numdf[\"n\"] > upper_bound) \n",
    "    | (numdf[\"n\"] < lower_bound) \n",
    ", [\"atypical\"] ] = 1"
   ]
  },
  {
   "cell_type": "code",
   "execution_count": 243,
   "id": "eb5d7e0c-f042-4880-9f1d-811817f64c36",
   "metadata": {},
   "outputs": [
    {
     "data": {
      "text/html": [
       "<div>\n",
       "<style scoped>\n",
       "    .dataframe tbody tr th:only-of-type {\n",
       "        vertical-align: middle;\n",
       "    }\n",
       "\n",
       "    .dataframe tbody tr th {\n",
       "        vertical-align: top;\n",
       "    }\n",
       "\n",
       "    .dataframe thead th {\n",
       "        text-align: right;\n",
       "    }\n",
       "</style>\n",
       "<table border=\"1\" class=\"dataframe\">\n",
       "  <thead>\n",
       "    <tr style=\"text-align: right;\">\n",
       "      <th></th>\n",
       "      <th>n</th>\n",
       "      <th>atypical</th>\n",
       "    </tr>\n",
       "  </thead>\n",
       "  <tbody>\n",
       "    <tr>\n",
       "      <th>22</th>\n",
       "      <td>0.434122</td>\n",
       "      <td>1</td>\n",
       "    </tr>\n",
       "    <tr>\n",
       "      <th>33</th>\n",
       "      <td>0.361584</td>\n",
       "      <td>1</td>\n",
       "    </tr>\n",
       "    <tr>\n",
       "      <th>35</th>\n",
       "      <td>0.700466</td>\n",
       "      <td>1</td>\n",
       "    </tr>\n",
       "    <tr>\n",
       "      <th>39</th>\n",
       "      <td>0.377126</td>\n",
       "      <td>1</td>\n",
       "    </tr>\n",
       "    <tr>\n",
       "      <th>47</th>\n",
       "      <td>0.480378</td>\n",
       "      <td>1</td>\n",
       "    </tr>\n",
       "    <tr>\n",
       "      <th>49</th>\n",
       "      <td>0.431981</td>\n",
       "      <td>1</td>\n",
       "    </tr>\n",
       "    <tr>\n",
       "      <th>50</th>\n",
       "      <td>0.543727</td>\n",
       "      <td>1</td>\n",
       "    </tr>\n",
       "    <tr>\n",
       "      <th>58</th>\n",
       "      <td>0.404316</td>\n",
       "      <td>1</td>\n",
       "    </tr>\n",
       "    <tr>\n",
       "      <th>65</th>\n",
       "      <td>0.348911</td>\n",
       "      <td>1</td>\n",
       "    </tr>\n",
       "    <tr>\n",
       "      <th>79</th>\n",
       "      <td>0.474042</td>\n",
       "      <td>1</td>\n",
       "    </tr>\n",
       "    <tr>\n",
       "      <th>85</th>\n",
       "      <td>0.483694</td>\n",
       "      <td>1</td>\n",
       "    </tr>\n",
       "    <tr>\n",
       "      <th>144</th>\n",
       "      <td>0.375580</td>\n",
       "      <td>1</td>\n",
       "    </tr>\n",
       "    <tr>\n",
       "      <th>181</th>\n",
       "      <td>0.491657</td>\n",
       "      <td>1</td>\n",
       "    </tr>\n",
       "    <tr>\n",
       "      <th>209</th>\n",
       "      <td>0.401802</td>\n",
       "      <td>1</td>\n",
       "    </tr>\n",
       "    <tr>\n",
       "      <th>236</th>\n",
       "      <td>0.482698</td>\n",
       "      <td>1</td>\n",
       "    </tr>\n",
       "    <tr>\n",
       "      <th>263</th>\n",
       "      <td>0.410878</td>\n",
       "      <td>1</td>\n",
       "    </tr>\n",
       "    <tr>\n",
       "      <th>267</th>\n",
       "      <td>0.435403</td>\n",
       "      <td>1</td>\n",
       "    </tr>\n",
       "    <tr>\n",
       "      <th>284</th>\n",
       "      <td>0.493096</td>\n",
       "      <td>1</td>\n",
       "    </tr>\n",
       "    <tr>\n",
       "      <th>286</th>\n",
       "      <td>0.380965</td>\n",
       "      <td>1</td>\n",
       "    </tr>\n",
       "    <tr>\n",
       "      <th>350</th>\n",
       "      <td>0.453583</td>\n",
       "      <td>1</td>\n",
       "    </tr>\n",
       "    <tr>\n",
       "      <th>352</th>\n",
       "      <td>0.525822</td>\n",
       "      <td>1</td>\n",
       "    </tr>\n",
       "    <tr>\n",
       "      <th>399</th>\n",
       "      <td>0.483107</td>\n",
       "      <td>1</td>\n",
       "    </tr>\n",
       "    <tr>\n",
       "      <th>469</th>\n",
       "      <td>0.676114</td>\n",
       "      <td>1</td>\n",
       "    </tr>\n",
       "    <tr>\n",
       "      <th>476</th>\n",
       "      <td>0.503631</td>\n",
       "      <td>1</td>\n",
       "    </tr>\n",
       "    <tr>\n",
       "      <th>485</th>\n",
       "      <td>0.400883</td>\n",
       "      <td>1</td>\n",
       "    </tr>\n",
       "    <tr>\n",
       "      <th>552</th>\n",
       "      <td>0.471540</td>\n",
       "      <td>1</td>\n",
       "    </tr>\n",
       "    <tr>\n",
       "      <th>575</th>\n",
       "      <td>0.491561</td>\n",
       "      <td>1</td>\n",
       "    </tr>\n",
       "    <tr>\n",
       "      <th>578</th>\n",
       "      <td>0.389038</td>\n",
       "      <td>1</td>\n",
       "    </tr>\n",
       "    <tr>\n",
       "      <th>594</th>\n",
       "      <td>0.363253</td>\n",
       "      <td>1</td>\n",
       "    </tr>\n",
       "    <tr>\n",
       "      <th>635</th>\n",
       "      <td>0.392200</td>\n",
       "      <td>1</td>\n",
       "    </tr>\n",
       "    <tr>\n",
       "      <th>651</th>\n",
       "      <td>0.371532</td>\n",
       "      <td>1</td>\n",
       "    </tr>\n",
       "    <tr>\n",
       "      <th>652</th>\n",
       "      <td>0.672769</td>\n",
       "      <td>1</td>\n",
       "    </tr>\n",
       "    <tr>\n",
       "      <th>669</th>\n",
       "      <td>0.435928</td>\n",
       "      <td>1</td>\n",
       "    </tr>\n",
       "    <tr>\n",
       "      <th>684</th>\n",
       "      <td>0.390122</td>\n",
       "      <td>1</td>\n",
       "    </tr>\n",
       "    <tr>\n",
       "      <th>688</th>\n",
       "      <td>0.373586</td>\n",
       "      <td>1</td>\n",
       "    </tr>\n",
       "    <tr>\n",
       "      <th>746</th>\n",
       "      <td>0.359388</td>\n",
       "      <td>1</td>\n",
       "    </tr>\n",
       "    <tr>\n",
       "      <th>749</th>\n",
       "      <td>0.372628</td>\n",
       "      <td>1</td>\n",
       "    </tr>\n",
       "    <tr>\n",
       "      <th>750</th>\n",
       "      <td>0.354752</td>\n",
       "      <td>1</td>\n",
       "    </tr>\n",
       "    <tr>\n",
       "      <th>798</th>\n",
       "      <td>0.454232</td>\n",
       "      <td>1</td>\n",
       "    </tr>\n",
       "    <tr>\n",
       "      <th>829</th>\n",
       "      <td>0.360049</td>\n",
       "      <td>1</td>\n",
       "    </tr>\n",
       "    <tr>\n",
       "      <th>846</th>\n",
       "      <td>0.583471</td>\n",
       "      <td>1</td>\n",
       "    </tr>\n",
       "    <tr>\n",
       "      <th>850</th>\n",
       "      <td>0.433199</td>\n",
       "      <td>1</td>\n",
       "    </tr>\n",
       "    <tr>\n",
       "      <th>862</th>\n",
       "      <td>0.597834</td>\n",
       "      <td>1</td>\n",
       "    </tr>\n",
       "    <tr>\n",
       "      <th>876</th>\n",
       "      <td>0.372409</td>\n",
       "      <td>1</td>\n",
       "    </tr>\n",
       "    <tr>\n",
       "      <th>878</th>\n",
       "      <td>0.404796</td>\n",
       "      <td>1</td>\n",
       "    </tr>\n",
       "    <tr>\n",
       "      <th>879</th>\n",
       "      <td>0.468813</td>\n",
       "      <td>1</td>\n",
       "    </tr>\n",
       "    <tr>\n",
       "      <th>882</th>\n",
       "      <td>0.380873</td>\n",
       "      <td>1</td>\n",
       "    </tr>\n",
       "    <tr>\n",
       "      <th>889</th>\n",
       "      <td>0.749010</td>\n",
       "      <td>1</td>\n",
       "    </tr>\n",
       "    <tr>\n",
       "      <th>900</th>\n",
       "      <td>0.387477</td>\n",
       "      <td>1</td>\n",
       "    </tr>\n",
       "    <tr>\n",
       "      <th>906</th>\n",
       "      <td>0.428638</td>\n",
       "      <td>1</td>\n",
       "    </tr>\n",
       "    <tr>\n",
       "      <th>995</th>\n",
       "      <td>0.352225</td>\n",
       "      <td>1</td>\n",
       "    </tr>\n",
       "    <tr>\n",
       "      <th>996</th>\n",
       "      <td>0.369585</td>\n",
       "      <td>1</td>\n",
       "    </tr>\n",
       "    <tr>\n",
       "      <th>1000</th>\n",
       "      <td>-10.000000</td>\n",
       "      <td>1</td>\n",
       "    </tr>\n",
       "    <tr>\n",
       "      <th>1001</th>\n",
       "      <td>-11.000000</td>\n",
       "      <td>1</td>\n",
       "    </tr>\n",
       "    <tr>\n",
       "      <th>1002</th>\n",
       "      <td>-12.000000</td>\n",
       "      <td>1</td>\n",
       "    </tr>\n",
       "    <tr>\n",
       "      <th>1003</th>\n",
       "      <td>-13.000000</td>\n",
       "      <td>1</td>\n",
       "    </tr>\n",
       "  </tbody>\n",
       "</table>\n",
       "</div>"
      ],
      "text/plain": [
       "              n  atypical\n",
       "22     0.434122         1\n",
       "33     0.361584         1\n",
       "35     0.700466         1\n",
       "39     0.377126         1\n",
       "47     0.480378         1\n",
       "49     0.431981         1\n",
       "50     0.543727         1\n",
       "58     0.404316         1\n",
       "65     0.348911         1\n",
       "79     0.474042         1\n",
       "85     0.483694         1\n",
       "144    0.375580         1\n",
       "181    0.491657         1\n",
       "209    0.401802         1\n",
       "236    0.482698         1\n",
       "263    0.410878         1\n",
       "267    0.435403         1\n",
       "284    0.493096         1\n",
       "286    0.380965         1\n",
       "350    0.453583         1\n",
       "352    0.525822         1\n",
       "399    0.483107         1\n",
       "469    0.676114         1\n",
       "476    0.503631         1\n",
       "485    0.400883         1\n",
       "552    0.471540         1\n",
       "575    0.491561         1\n",
       "578    0.389038         1\n",
       "594    0.363253         1\n",
       "635    0.392200         1\n",
       "651    0.371532         1\n",
       "652    0.672769         1\n",
       "669    0.435928         1\n",
       "684    0.390122         1\n",
       "688    0.373586         1\n",
       "746    0.359388         1\n",
       "749    0.372628         1\n",
       "750    0.354752         1\n",
       "798    0.454232         1\n",
       "829    0.360049         1\n",
       "846    0.583471         1\n",
       "850    0.433199         1\n",
       "862    0.597834         1\n",
       "876    0.372409         1\n",
       "878    0.404796         1\n",
       "879    0.468813         1\n",
       "882    0.380873         1\n",
       "889    0.749010         1\n",
       "900    0.387477         1\n",
       "906    0.428638         1\n",
       "995    0.352225         1\n",
       "996    0.369585         1\n",
       "1000 -10.000000         1\n",
       "1001 -11.000000         1\n",
       "1002 -12.000000         1\n",
       "1003 -13.000000         1"
      ]
     },
     "execution_count": 243,
     "metadata": {},
     "output_type": "execute_result"
    }
   ],
   "source": [
    "numdf.loc[ numdf[\"atypical\"] == 1 , : ]"
   ]
  },
  {
   "cell_type": "code",
   "execution_count": 247,
   "id": "8b07c492-1468-415d-9fad-29891c671570",
   "metadata": {},
   "outputs": [
    {
     "data": {
      "text/plain": [
       "array([[<Axes: title={'center': 'n'}>]], dtype=object)"
      ]
     },
     "execution_count": 247,
     "metadata": {},
     "output_type": "execute_result"
    },
    {
     "data": {
      "image/png": "[encoded data removed]",
      "text/plain": [
       "<Figure size 640x480 with 1 Axes>"
      ]
     },
     "metadata": {},
     "output_type": "display_data"
    }
   ],
   "source": [
    "numdf.loc[ numdf[\"atypical\"] == 0 , [\"n\"] ].hist()"
   ]
  },
  {
   "cell_type": "code",
   "execution_count": 249,
   "id": "d0c3e53f-80a1-45ee-b650-68cff8384b1c",
   "metadata": {},
   "outputs": [
    {
     "data": {
      "text/plain": [
       "<Axes: >"
      ]
     },
     "execution_count": 249,
     "metadata": {},
     "output_type": "execute_result"
    },
    {
     "data": {
      "image/png": "[encoded data removed]",
      "text/plain": [
       "<Figure size 640x480 with 1 Axes>"
      ]
     },
     "metadata": {},
     "output_type": "display_data"
    }
   ],
   "source": [
    "numdf.loc[ numdf[\"atypical\"] == 0 , [\"n\"] ].boxplot()"
   ]
  },
  {
   "cell_type": "markdown",
   "id": "3d9d710c-d8fc-4d25-8f0a-8617bb6c6b07",
   "metadata": {},
   "source": [
    "## Distribuciones truncadas "
   ]
  },
  {
   "cell_type": "code",
   "execution_count": 264,
   "id": "024d07a2-eaec-40f0-9447-5bb943e15eff",
   "metadata": {},
   "outputs": [
    {
     "name": "stdout",
     "output_type": "stream",
     "text": [
      "Media de las muestras: 79.88137297149099\n",
      "Desviación estándar de las muestras: 4.043237176248513\n",
      "Valor mínimo de las muestras: 66.94433229325577\n",
      "Valor máximo de las muestras: 93.3122996944457\n"
     ]
    }
   ],
   "source": [
    "\n",
    "# Parámetros de la distribución\n",
    "min_val = 40       # Valor mínimo\n",
    "max_val = 100       # Valor máximo\n",
    "media = 80         # Media deseada\n",
    "desv_std = 4      # Desviación estándar deseada\n",
    "\n",
    "# Calcular los límites 'a' y 'b' para la función truncnorm\n",
    "a, b = (min_val - media) / desv_std, (max_val - media) / desv_std\n",
    "\n",
    "# Generar muestras de la distribución normal truncada\n",
    "muestras = truncnorm.rvs(a, b, loc=media, scale=desv_std, size=1000)\n",
    "\n",
    "# Mostrar estadísticas de las muestras generadas\n",
    "print(\"Media de las muestras:\", np.mean(muestras))\n",
    "print(\"Desviación estándar de las muestras:\", np.std(muestras))\n",
    "print(\"Valor mínimo de las muestras:\", np.min(muestras))\n",
    "print(\"Valor máximo de las muestras:\", np.max(muestras))"
   ]
  },
  {
   "cell_type": "code",
   "execution_count": 266,
   "id": "8eb47210-2b1a-47ce-af26-ade365e66bf6",
   "metadata": {},
   "outputs": [],
   "source": [
    "numdf = pd.DataFrame({\"n\": muestras})"
   ]
  },
  {
   "cell_type": "code",
   "execution_count": 268,
   "id": "1e6f067c-f0dc-4ba4-a7a2-5ae8b3c35993",
   "metadata": {},
   "outputs": [
    {
     "data": {
      "text/html": [
       "<div>\n",
       "<style scoped>\n",
       "    .dataframe tbody tr th:only-of-type {\n",
       "        vertical-align: middle;\n",
       "    }\n",
       "\n",
       "    .dataframe tbody tr th {\n",
       "        vertical-align: top;\n",
       "    }\n",
       "\n",
       "    .dataframe thead th {\n",
       "        text-align: right;\n",
       "    }\n",
       "</style>\n",
       "<table border=\"1\" class=\"dataframe\">\n",
       "  <thead>\n",
       "    <tr style=\"text-align: right;\">\n",
       "      <th></th>\n",
       "      <th>n</th>\n",
       "    </tr>\n",
       "  </thead>\n",
       "  <tbody>\n",
       "    <tr>\n",
       "      <th>count</th>\n",
       "      <td>1000.000000</td>\n",
       "    </tr>\n",
       "    <tr>\n",
       "      <th>mean</th>\n",
       "      <td>79.881373</td>\n",
       "    </tr>\n",
       "    <tr>\n",
       "      <th>std</th>\n",
       "      <td>4.045260</td>\n",
       "    </tr>\n",
       "    <tr>\n",
       "      <th>min</th>\n",
       "      <td>66.944332</td>\n",
       "    </tr>\n",
       "    <tr>\n",
       "      <th>25%</th>\n",
       "      <td>77.202031</td>\n",
       "    </tr>\n",
       "    <tr>\n",
       "      <th>50%</th>\n",
       "      <td>79.823485</td>\n",
       "    </tr>\n",
       "    <tr>\n",
       "      <th>75%</th>\n",
       "      <td>82.602573</td>\n",
       "    </tr>\n",
       "    <tr>\n",
       "      <th>max</th>\n",
       "      <td>93.312300</td>\n",
       "    </tr>\n",
       "  </tbody>\n",
       "</table>\n",
       "</div>"
      ],
      "text/plain": [
       "                 n\n",
       "count  1000.000000\n",
       "mean     79.881373\n",
       "std       4.045260\n",
       "min      66.944332\n",
       "25%      77.202031\n",
       "50%      79.823485\n",
       "75%      82.602573\n",
       "max      93.312300"
      ]
     },
     "execution_count": 268,
     "metadata": {},
     "output_type": "execute_result"
    }
   ],
   "source": [
    "numdf.describe()"
   ]
  },
  {
   "cell_type": "code",
   "execution_count": 270,
   "id": "725a1d0f-7357-4a78-b867-daf8eb0ad7c2",
   "metadata": {},
   "outputs": [
    {
     "data": {
      "text/plain": [
       "array([[<Axes: title={'center': 'n'}>]], dtype=object)"
      ]
     },
     "execution_count": 270,
     "metadata": {},
     "output_type": "execute_result"
    },
    {
     "data": {
      "image/png": "[encoded data removed]",
      "text/plain": [
       "<Figure size 640x480 with 1 Axes>"
      ]
     },
     "metadata": {},
     "output_type": "display_data"
    }
   ],
   "source": [
    "numdf.hist()"
   ]
  },
  {
   "cell_type": "code",
   "execution_count": null,
   "id": "34da97cc-b1fe-4ef2-a7b0-ea7edd3d5811",
   "metadata": {},
   "outputs": [],
   "source": []
  }
 ],
 "metadata": {
  "kernelspec": {
   "display_name": "Python 3 (ipykernel)",
   "language": "python",
   "name": "python3"
  },
  "language_info": {
   "codemirror_mode": {
    "name": "ipython",
    "version": 3
   },
   "file_extension": ".py",
   "mimetype": "text/x-python",
   "name": "python",
   "nbconvert_exporter": "python",
   "pygments_lexer": "ipython3",
   "version": "3.11.5"
  }
 },
 "nbformat": 4,
 "nbformat_minor": 5
}
