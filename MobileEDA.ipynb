{
 "cells": [
  {
   "cell_type": "code",
   "execution_count": 34,
   "id": "e9cc6b98-60a2-42c5-8662-9c23821aada5",
   "metadata": {},
   "outputs": [],
   "source": [
    "import pandas as pd\n",
    "import matplotlib.pyplot as plt"
   ]
  },
  {
   "cell_type": "code",
   "execution_count": 4,
   "id": "aaeb99e2-69a7-48a3-a2f8-fc5e45d8df78",
   "metadata": {},
   "outputs": [],
   "source": [
    "df = pd.read_csv( \"Mobile/user_behavior_dataset.csv\" )"
   ]
  },
  {
   "cell_type": "code",
   "execution_count": 6,
   "id": "26b7b77f-c62b-47dd-a5dd-5b3cf2a54cdb",
   "metadata": {},
   "outputs": [
    {
     "data": {
      "text/html": [
       "<div>\n",
       "<style scoped>\n",
       "    .dataframe tbody tr th:only-of-type {\n",
       "        vertical-align: middle;\n",
       "    }\n",
       "\n",
       "    .dataframe tbody tr th {\n",
       "        vertical-align: top;\n",
       "    }\n",
       "\n",
       "    .dataframe thead th {\n",
       "        text-align: right;\n",
       "    }\n",
       "</style>\n",
       "<table border=\"1\" class=\"dataframe\">\n",
       "  <thead>\n",
       "    <tr style=\"text-align: right;\">\n",
       "      <th></th>\n",
       "      <th>User ID</th>\n",
       "      <th>App Usage Time (min/day)</th>\n",
       "      <th>Screen On Time (hours/day)</th>\n",
       "      <th>Battery Drain (mAh/day)</th>\n",
       "      <th>Number of Apps Installed</th>\n",
       "      <th>Data Usage (MB/day)</th>\n",
       "      <th>Age</th>\n",
       "      <th>User Behavior Class</th>\n",
       "    </tr>\n",
       "  </thead>\n",
       "  <tbody>\n",
       "    <tr>\n",
       "      <th>count</th>\n",
       "      <td>700.00000</td>\n",
       "      <td>700.000000</td>\n",
       "      <td>700.000000</td>\n",
       "      <td>700.000000</td>\n",
       "      <td>700.000000</td>\n",
       "      <td>700.000000</td>\n",
       "      <td>700.000000</td>\n",
       "      <td>700.000000</td>\n",
       "    </tr>\n",
       "    <tr>\n",
       "      <th>mean</th>\n",
       "      <td>350.50000</td>\n",
       "      <td>271.128571</td>\n",
       "      <td>5.272714</td>\n",
       "      <td>1525.158571</td>\n",
       "      <td>50.681429</td>\n",
       "      <td>929.742857</td>\n",
       "      <td>38.482857</td>\n",
       "      <td>2.990000</td>\n",
       "    </tr>\n",
       "    <tr>\n",
       "      <th>std</th>\n",
       "      <td>202.21688</td>\n",
       "      <td>177.199484</td>\n",
       "      <td>3.068584</td>\n",
       "      <td>819.136414</td>\n",
       "      <td>26.943324</td>\n",
       "      <td>640.451729</td>\n",
       "      <td>12.012916</td>\n",
       "      <td>1.401476</td>\n",
       "    </tr>\n",
       "    <tr>\n",
       "      <th>min</th>\n",
       "      <td>1.00000</td>\n",
       "      <td>30.000000</td>\n",
       "      <td>1.000000</td>\n",
       "      <td>302.000000</td>\n",
       "      <td>10.000000</td>\n",
       "      <td>102.000000</td>\n",
       "      <td>18.000000</td>\n",
       "      <td>1.000000</td>\n",
       "    </tr>\n",
       "    <tr>\n",
       "      <th>25%</th>\n",
       "      <td>175.75000</td>\n",
       "      <td>113.250000</td>\n",
       "      <td>2.500000</td>\n",
       "      <td>722.250000</td>\n",
       "      <td>26.000000</td>\n",
       "      <td>373.000000</td>\n",
       "      <td>28.000000</td>\n",
       "      <td>2.000000</td>\n",
       "    </tr>\n",
       "    <tr>\n",
       "      <th>50%</th>\n",
       "      <td>350.50000</td>\n",
       "      <td>227.500000</td>\n",
       "      <td>4.900000</td>\n",
       "      <td>1502.500000</td>\n",
       "      <td>49.000000</td>\n",
       "      <td>823.500000</td>\n",
       "      <td>38.000000</td>\n",
       "      <td>3.000000</td>\n",
       "    </tr>\n",
       "    <tr>\n",
       "      <th>75%</th>\n",
       "      <td>525.25000</td>\n",
       "      <td>434.250000</td>\n",
       "      <td>7.400000</td>\n",
       "      <td>2229.500000</td>\n",
       "      <td>74.000000</td>\n",
       "      <td>1341.000000</td>\n",
       "      <td>49.000000</td>\n",
       "      <td>4.000000</td>\n",
       "    </tr>\n",
       "    <tr>\n",
       "      <th>max</th>\n",
       "      <td>700.00000</td>\n",
       "      <td>598.000000</td>\n",
       "      <td>12.000000</td>\n",
       "      <td>2993.000000</td>\n",
       "      <td>99.000000</td>\n",
       "      <td>2497.000000</td>\n",
       "      <td>59.000000</td>\n",
       "      <td>5.000000</td>\n",
       "    </tr>\n",
       "  </tbody>\n",
       "</table>\n",
       "</div>"
      ],
      "text/plain": [
       "         User ID  App Usage Time (min/day)  Screen On Time (hours/day)  \\\n",
       "count  700.00000                700.000000                  700.000000   \n",
       "mean   350.50000                271.128571                    5.272714   \n",
       "std    202.21688                177.199484                    3.068584   \n",
       "min      1.00000                 30.000000                    1.000000   \n",
       "25%    175.75000                113.250000                    2.500000   \n",
       "50%    350.50000                227.500000                    4.900000   \n",
       "75%    525.25000                434.250000                    7.400000   \n",
       "max    700.00000                598.000000                   12.000000   \n",
       "\n",
       "       Battery Drain (mAh/day)  Number of Apps Installed  Data Usage (MB/day)  \\\n",
       "count               700.000000                700.000000           700.000000   \n",
       "mean               1525.158571                 50.681429           929.742857   \n",
       "std                 819.136414                 26.943324           640.451729   \n",
       "min                 302.000000                 10.000000           102.000000   \n",
       "25%                 722.250000                 26.000000           373.000000   \n",
       "50%                1502.500000                 49.000000           823.500000   \n",
       "75%                2229.500000                 74.000000          1341.000000   \n",
       "max                2993.000000                 99.000000          2497.000000   \n",
       "\n",
       "              Age  User Behavior Class  \n",
       "count  700.000000           700.000000  \n",
       "mean    38.482857             2.990000  \n",
       "std     12.012916             1.401476  \n",
       "min     18.000000             1.000000  \n",
       "25%     28.000000             2.000000  \n",
       "50%     38.000000             3.000000  \n",
       "75%     49.000000             4.000000  \n",
       "max     59.000000             5.000000  "
      ]
     },
     "execution_count": 6,
     "metadata": {},
     "output_type": "execute_result"
    }
   ],
   "source": [
    "df.describe()"
   ]
  },
  {
   "cell_type": "code",
   "execution_count": 14,
   "id": "16f40a10-0c69-46bc-b3e5-b003f97a1374",
   "metadata": {},
   "outputs": [],
   "source": [
    "df.columns = [ \"user\" , \"device\" , \"os\" , \"appusage\" , \"screentime\" , \"batterydrain\" , \"apps\" , \"data\" , \"age\" , \"gender\" , \"class\" ]"
   ]
  },
  {
   "cell_type": "code",
   "execution_count": 29,
   "id": "16f62fb7-ea37-4e2d-bda4-d6608d18a3fb",
   "metadata": {},
   "outputs": [
    {
     "data": {
      "text/plain": [
       "<Axes: >"
      ]
     },
     "execution_count": 29,
     "metadata": {},
     "output_type": "execute_result"
    }
   ],
   "source": [
    "df.boxplot( column=\"screentime\"   )"
   ]
  },
  {
   "cell_type": "code",
   "execution_count": 27,
   "id": "3258a3f4-bd49-4eb0-a28f-f7397a09906d",
   "metadata": {},
   "outputs": [],
   "source": [
    "df[\"appscategory\"] =  pd.cut( df[\"apps\"] , bins=5 , labels=[\"cat1\",\"cat2\",\"cat3\",\"cat4\",\"cat5\"] )"
   ]
  },
  {
   "cell_type": "code",
   "execution_count": 31,
   "id": "f26288a0-71ea-4317-9b94-7523e703238f",
   "metadata": {},
   "outputs": [
    {
     "data": {
      "text/plain": [
       "<Axes: title={'center': 'screentime'}, xlabel='appscategory'>"
      ]
     },
     "execution_count": 31,
     "metadata": {},
     "output_type": "execute_result"
    }
   ],
   "source": [
    "df.boxplot( column=\"screentime\" , by=\"appscategory\" )"
   ]
  },
  {
   "cell_type": "code",
   "execution_count": 36,
   "id": "cf36e421-211c-403e-b148-159748b529f9",
   "metadata": {},
   "outputs": [
    {
     "data": {
      "image/png": "[encoded data removed]",
      "text/plain": [
       "<Figure size 640x480 with 1 Axes>"
      ]
     },
     "metadata": {},
     "output_type": "display_data"
    },
    {
     "data": {
      "image/png": "[encoded data removed]",
      "text/plain": [
       "<Figure size 640x480 with 1 Axes>"
      ]
     },
     "metadata": {},
     "output_type": "display_data"
    }
   ],
   "source": [
    "plt.show()"
   ]
  },
  {
   "cell_type": "code",
   "execution_count": 42,
   "id": "cae98ea4-7b15-4a96-9c2c-ad3164d0241a",
   "metadata": {},
   "outputs": [
    {
     "data": {
      "text/html": [
       "<div>\n",
       "<style scoped>\n",
       "    .dataframe tbody tr th:only-of-type {\n",
       "        vertical-align: middle;\n",
       "    }\n",
       "\n",
       "    .dataframe tbody tr th {\n",
       "        vertical-align: top;\n",
       "    }\n",
       "\n",
       "    .dataframe thead th {\n",
       "        text-align: right;\n",
       "    }\n",
       "</style>\n",
       "<table border=\"1\" class=\"dataframe\">\n",
       "  <thead>\n",
       "    <tr style=\"text-align: right;\">\n",
       "      <th></th>\n",
       "      <th>user</th>\n",
       "      <th>appusage</th>\n",
       "      <th>screentime</th>\n",
       "      <th>batterydrain</th>\n",
       "      <th>apps</th>\n",
       "      <th>data</th>\n",
       "      <th>age</th>\n",
       "      <th>class</th>\n",
       "    </tr>\n",
       "  </thead>\n",
       "  <tbody>\n",
       "    <tr>\n",
       "      <th>count</th>\n",
       "      <td>129.000000</td>\n",
       "      <td>129.000000</td>\n",
       "      <td>129.000000</td>\n",
       "      <td>129.000000</td>\n",
       "      <td>129.000000</td>\n",
       "      <td>129.000000</td>\n",
       "      <td>129.000000</td>\n",
       "      <td>129.0</td>\n",
       "    </tr>\n",
       "    <tr>\n",
       "      <th>mean</th>\n",
       "      <td>340.937984</td>\n",
       "      <td>541.007752</td>\n",
       "      <td>10.093023</td>\n",
       "      <td>2700.387597</td>\n",
       "      <td>89.697674</td>\n",
       "      <td>1973.581395</td>\n",
       "      <td>38.031008</td>\n",
       "      <td>5.0</td>\n",
       "    </tr>\n",
       "    <tr>\n",
       "      <th>std</th>\n",
       "      <td>201.200295</td>\n",
       "      <td>31.015746</td>\n",
       "      <td>1.137307</td>\n",
       "      <td>177.401527</td>\n",
       "      <td>5.271688</td>\n",
       "      <td>295.325131</td>\n",
       "      <td>11.904528</td>\n",
       "      <td>0.0</td>\n",
       "    </tr>\n",
       "    <tr>\n",
       "      <th>min</th>\n",
       "      <td>8.000000</td>\n",
       "      <td>481.000000</td>\n",
       "      <td>8.100000</td>\n",
       "      <td>2403.000000</td>\n",
       "      <td>82.000000</td>\n",
       "      <td>1508.000000</td>\n",
       "      <td>18.000000</td>\n",
       "      <td>5.0</td>\n",
       "    </tr>\n",
       "    <tr>\n",
       "      <th>25%</th>\n",
       "      <td>167.000000</td>\n",
       "      <td>516.000000</td>\n",
       "      <td>9.100000</td>\n",
       "      <td>2547.000000</td>\n",
       "      <td>85.000000</td>\n",
       "      <td>1717.000000</td>\n",
       "      <td>28.000000</td>\n",
       "      <td>5.0</td>\n",
       "    </tr>\n",
       "    <tr>\n",
       "      <th>50%</th>\n",
       "      <td>362.000000</td>\n",
       "      <td>539.000000</td>\n",
       "      <td>10.300000</td>\n",
       "      <td>2717.000000</td>\n",
       "      <td>90.000000</td>\n",
       "      <td>1935.000000</td>\n",
       "      <td>36.000000</td>\n",
       "      <td>5.0</td>\n",
       "    </tr>\n",
       "    <tr>\n",
       "      <th>75%</th>\n",
       "      <td>510.000000</td>\n",
       "      <td>566.000000</td>\n",
       "      <td>11.100000</td>\n",
       "      <td>2857.000000</td>\n",
       "      <td>93.000000</td>\n",
       "      <td>2192.000000</td>\n",
       "      <td>49.000000</td>\n",
       "      <td>5.0</td>\n",
       "    </tr>\n",
       "    <tr>\n",
       "      <th>max</th>\n",
       "      <td>695.000000</td>\n",
       "      <td>598.000000</td>\n",
       "      <td>12.000000</td>\n",
       "      <td>2993.000000</td>\n",
       "      <td>99.000000</td>\n",
       "      <td>2497.000000</td>\n",
       "      <td>59.000000</td>\n",
       "      <td>5.0</td>\n",
       "    </tr>\n",
       "  </tbody>\n",
       "</table>\n",
       "</div>"
      ],
      "text/plain": [
       "             user    appusage  screentime  batterydrain        apps  \\\n",
       "count  129.000000  129.000000  129.000000    129.000000  129.000000   \n",
       "mean   340.937984  541.007752   10.093023   2700.387597   89.697674   \n",
       "std    201.200295   31.015746    1.137307    177.401527    5.271688   \n",
       "min      8.000000  481.000000    8.100000   2403.000000   82.000000   \n",
       "25%    167.000000  516.000000    9.100000   2547.000000   85.000000   \n",
       "50%    362.000000  539.000000   10.300000   2717.000000   90.000000   \n",
       "75%    510.000000  566.000000   11.100000   2857.000000   93.000000   \n",
       "max    695.000000  598.000000   12.000000   2993.000000   99.000000   \n",
       "\n",
       "              data         age  class  \n",
       "count   129.000000  129.000000  129.0  \n",
       "mean   1973.581395   38.031008    5.0  \n",
       "std     295.325131   11.904528    0.0  \n",
       "min    1508.000000   18.000000    5.0  \n",
       "25%    1717.000000   28.000000    5.0  \n",
       "50%    1935.000000   36.000000    5.0  \n",
       "75%    2192.000000   49.000000    5.0  \n",
       "max    2497.000000   59.000000    5.0  "
      ]
     },
     "execution_count": 42,
     "metadata": {},
     "output_type": "execute_result"
    }
   ],
   "source": [
    "df.loc[ df[\"appscategory\"] == \"cat5\" ].describe()"
   ]
  },
  {
   "cell_type": "code",
   "execution_count": 46,
   "id": "daf37474-81e6-40e8-8c4e-1eb77444374a",
   "metadata": {},
   "outputs": [
    {
     "data": {
      "text/html": [
       "<div>\n",
       "<style scoped>\n",
       "    .dataframe tbody tr th:only-of-type {\n",
       "        vertical-align: middle;\n",
       "    }\n",
       "\n",
       "    .dataframe tbody tr th {\n",
       "        vertical-align: top;\n",
       "    }\n",
       "\n",
       "    .dataframe thead th {\n",
       "        text-align: right;\n",
       "    }\n",
       "</style>\n",
       "<table border=\"1\" class=\"dataframe\">\n",
       "  <thead>\n",
       "    <tr style=\"text-align: right;\">\n",
       "      <th></th>\n",
       "      <th>device</th>\n",
       "      <th>os</th>\n",
       "    </tr>\n",
       "  </thead>\n",
       "  <tbody>\n",
       "    <tr>\n",
       "      <th>0</th>\n",
       "      <td>Google Pixel 5</td>\n",
       "      <td>Android</td>\n",
       "    </tr>\n",
       "    <tr>\n",
       "      <th>1</th>\n",
       "      <td>OnePlus 9</td>\n",
       "      <td>Android</td>\n",
       "    </tr>\n",
       "    <tr>\n",
       "      <th>2</th>\n",
       "      <td>Xiaomi Mi 11</td>\n",
       "      <td>Android</td>\n",
       "    </tr>\n",
       "    <tr>\n",
       "      <th>4</th>\n",
       "      <td>iPhone 12</td>\n",
       "      <td>iOS</td>\n",
       "    </tr>\n",
       "    <tr>\n",
       "      <th>6</th>\n",
       "      <td>Samsung Galaxy S21</td>\n",
       "      <td>Android</td>\n",
       "    </tr>\n",
       "  </tbody>\n",
       "</table>\n",
       "</div>"
      ],
      "text/plain": [
       "               device       os\n",
       "0      Google Pixel 5  Android\n",
       "1           OnePlus 9  Android\n",
       "2        Xiaomi Mi 11  Android\n",
       "4           iPhone 12      iOS\n",
       "6  Samsung Galaxy S21  Android"
      ]
     },
     "execution_count": 46,
     "metadata": {},
     "output_type": "execute_result"
    }
   ],
   "source": [
    "df.loc[ :  , [\"device\",\"os\"] ].drop_duplicates()"
   ]
  },
  {
   "cell_type": "code",
   "execution_count": 58,
   "id": "a293102d-cb3d-49a0-99a1-57530cdb4d5d",
   "metadata": {},
   "outputs": [
    {
     "data": {
      "text/plain": [
       "<Axes: title={'center': 'screentime'}, xlabel='appscategory'>"
      ]
     },
     "execution_count": 58,
     "metadata": {},
     "output_type": "execute_result"
    }
   ],
   "source": [
    "df.loc[ df[\"os\"] == \"iOS\" , : ].boxplot( column=\"screentime\" , by=\"appscategory\" )"
   ]
  },
  {
   "cell_type": "code",
   "execution_count": 60,
   "id": "18809417-4388-43ca-8396-f126525ca1fa",
   "metadata": {},
   "outputs": [
    {
     "data": {
      "image/png": "[encoded data removed]",
      "text/plain": [
       "<Figure size 640x480 with 1 Axes>"
      ]
     },
     "metadata": {},
     "output_type": "display_data"
    }
   ],
   "source": [
    "plt.show()"
   ]
  },
  {
   "cell_type": "code",
   "execution_count": 62,
   "id": "94c1adc7-fe59-41cd-b2d8-da7a42e4aa06",
   "metadata": {},
   "outputs": [
    {
     "data": {
      "image/png": "[encoded data removed]",
      "text/plain": [
       "<Figure size 640x480 with 1 Axes>"
      ]
     },
     "metadata": {},
     "output_type": "display_data"
    }
   ],
   "source": [
    "df.loc[ df[\"os\"] == \"Android\" , : ].boxplot( column=\"screentime\" , by=\"appscategory\" )\n",
    "plt.show()"
   ]
  },
  {
   "cell_type": "code",
   "execution_count": 66,
   "id": "f27c4ad0-d12f-4df9-bf2b-66781a3f7783",
   "metadata": {},
   "outputs": [
    {
     "data": {
      "text/html": [
       "<div>\n",
       "<style scoped>\n",
       "    .dataframe tbody tr th:only-of-type {\n",
       "        vertical-align: middle;\n",
       "    }\n",
       "\n",
       "    .dataframe tbody tr th {\n",
       "        vertical-align: top;\n",
       "    }\n",
       "\n",
       "    .dataframe thead tr th {\n",
       "        text-align: left;\n",
       "    }\n",
       "\n",
       "    .dataframe thead tr:last-of-type th {\n",
       "        text-align: right;\n",
       "    }\n",
       "</style>\n",
       "<table border=\"1\" class=\"dataframe\">\n",
       "  <thead>\n",
       "    <tr>\n",
       "      <th></th>\n",
       "      <th>user</th>\n",
       "    </tr>\n",
       "    <tr>\n",
       "      <th></th>\n",
       "      <th>count</th>\n",
       "    </tr>\n",
       "    <tr>\n",
       "      <th>os</th>\n",
       "      <th></th>\n",
       "    </tr>\n",
       "  </thead>\n",
       "  <tbody>\n",
       "    <tr>\n",
       "      <th>Android</th>\n",
       "      <td>0.791429</td>\n",
       "    </tr>\n",
       "    <tr>\n",
       "      <th>iOS</th>\n",
       "      <td>0.208571</td>\n",
       "    </tr>\n",
       "  </tbody>\n",
       "</table>\n",
       "</div>"
      ],
      "text/plain": [
       "             user\n",
       "            count\n",
       "os               \n",
       "Android  0.791429\n",
       "iOS      0.208571"
      ]
     },
     "execution_count": 66,
     "metadata": {},
     "output_type": "execute_result"
    }
   ],
   "source": [
    "df.groupby( \"os\" ).agg( { \"user\": [\"count\"] } ) / 700"
   ]
  },
  {
   "cell_type": "code",
   "execution_count": null,
   "id": "482d5984-fb1e-4aa4-883c-d8c71e0c1f51",
   "metadata": {},
   "outputs": [],
   "source": []
  }
 ],
 "metadata": {
  "kernelspec": {
   "display_name": "Python 3 (ipykernel)",
   "language": "python",
   "name": "python3"
  },
  "language_info": {
   "codemirror_mode": {
    "name": "ipython",
    "version": 3
   },
   "file_extension": ".py",
   "mimetype": "text/x-python",
   "name": "python",
   "nbconvert_exporter": "python",
   "pygments_lexer": "ipython3",
   "version": "3.11.5"
  }
 },
 "nbformat": 4,
 "nbformat_minor": 5
}
